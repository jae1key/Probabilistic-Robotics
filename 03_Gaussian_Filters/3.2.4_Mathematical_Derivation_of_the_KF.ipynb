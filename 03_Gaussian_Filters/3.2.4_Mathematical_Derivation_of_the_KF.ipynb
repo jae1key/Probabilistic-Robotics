{
 "cells": [
  {
   "cell_type": "markdown",
   "metadata": {},
   "source": [
    "3.2.4 Mathematical Derivation of the KF\n",
    "\n",
    "$\\def\\SSS{\\space\\space\\space}$\n",
    "$\\def\\HS{\\space\\space\\space\\space\\space}$\n",
    "$\\def\\HSS{\\HS\\HS}$\n",
    "$\\def\\HSSS{\\HS\\HS\\HS}$\n",
    "\n",
    "(3.7) $\\space$ $\\bar{bel}(x_t) = \\int p(x_t \\mid x_{t-1}, u_t) \\space bel(x_{t-1}) \\space dx_{t-1}$ \n",
    "\n",
    "$\\HS\\SSS$ $p(x_t \\mid x_{t-1}, u_t) \\sim \\mathcal{N}(x_t; A_t x_{t-1} + B_t u_t, R_t)$\n",
    "\n",
    "$\\HS\\SSS$ $bel(x_{t-1}) \\sim \\mathcal{N}(x_{t-1}; \\mu_{t-1}, \\Sigma_{t-1})\\\\$\n",
    "\n",
    "(3.8) $\\space$ $ \\bar{bel}(x_t) = \\eta \\space \\int \\exp\\left\\lbrace-\\frac{1}{2}\\left(x_t - A_t x_{t-1} - B_t u_t\\right)^TR^{-1}_t\\left(x_t - A_t x_{t-1} - B_t u_t\\right) \\right\\rbrace \\\\ \\HSSS\\HSS\\space \\exp\\left\\lbrace-\\frac{1}{2}(x_{t-1}-\\mu_{t-1})^T\\Sigma^{-1}_{t-1}(x_{t-1}-\\mu_{t-1}\\right\\rbrace dx_{t-1}\\\\$\n",
    "\n",
    "(3.9) $\\space$ $\\bar{bel}(x_t) = \\eta \\space \\int \\exp\\left\\lbrace-L_t \\right\\rbrace dx_{t-1}\\\\$\n",
    "\n",
    "(3.10) $\\space$ $ L_t = \\frac{1}{2}\\left(x_t - A_t x_{t-1} - B_t u_t\\right)^TR^{-1}_t (x_t - A_t x_{t-1} - B_t u_t) \\\\ \\HSSS\\HS + \\frac{1}{2} (x_{t-1} - \\mu_{t-1})^T \\Sigma^{-1}_{t-1} (x_{t-1} - \\mu_{t-1})\\\\$\n",
    "\n",
    "(3.11) $\\space$ $L_t = L_t(x_{t-1}, x_t) + L_t(x_t)\\\\$\n",
    "\n",
    "(3.12) $\\space$ $\\bar{bel}(x_t) = \\eta \\space \\int \\exp\\left\\lbrace-L_t\\right\\rbrace dx_{t-1}\\\\ \\HSSS\\HSS\\SSS \\eta \\int \\exp\\left\\lbrace-L_t(x_{t-1}, x_t) - L_t(x_t)\\right\\rbrace dx_{t-1}\\\\ \\HSSS\\HSS\\SSS \\eta \\space \\exp\\left\\lbrace-L_t(x_t)\\right\\rbrace \\int \\exp\\left\\lbrace-L_t(x_{t-1},x_t)\\right\\rbrace dx_{t-1}\\\\$\n",
    "\n",
    "(3.13) $\\space$ $\\bar{bel}(x_t) = \\eta \\space \\exp\\left\\lbrace-L_t(x_t)\\right\\rbrace$\n",
    "\n",
    "(3.14) $\\space$ $\\frac{\\partial L_t}{\\partial x_{t-1}} = \\frac{1}{2}\\left(x_t - A_t x_{t-1} - B_t u_t\\right)^TR^{-1}_{t}(\\frac{\\partial{(-A_t x_{t-1})}}{\\partial{x_{t-1}}}) + \\frac{1}{2}\\left(x_t - A_t x_{t-1} - B_t u_t\\right)^T(R^{-1}_t)^T(\\frac{\\partial{(-A_t x_{t-1})}}{\\partial{x_{t-1}}}) \\\\ \\HSS\\HSS\\SSS\\space + \\frac{1}{2}\\left(x_{t-1} - \\mu_{t-1}\\right)^T\\Sigma^{-1}_{t-1}(\\frac{\\partial{x_{t-1}}}{\\partial{x_{t-1}}}) + \\frac{1}{2}\\left(x_{t-1} - \\mu_{t-1}\\right)^T(\\Sigma^{-1}_{t-1})^T(\\frac{\\partial{x_{t-1}}}{\\partial{x_{t-1}}}) \\\\ \\HSS\\HSS = \\frac{1}{2}\\left(x_t - A_t x_{t-1} - B_t u_t\\right)^TR^{-1}_{t}(-A_t) + \\frac{1}{2}\\left(x_t - A_t x_{t-1} - B_t u_t\\right)^T(R^{-1}_t)^T(-A_t) \\\\ \\HSS\\HSS\\SSS\\space + \\frac{1}{2}\\left(x_{t-1} - \\mu_{t-1}\\right)^T\\Sigma^{-1}_{t-1}(\\frac{\\partial{x_{t-1}}}{\\partial{x_{t-1}}}) + \\frac{1}{2}\\left(x_{t-1} - \\mu_{t-1} \\right)^T(\\Sigma^{-1}_{t-1})^T(\\frac{\\partial{x_{t-1}}}{\\partial{x_{t-1}}}) \\\\ \\HSS\\HSS = \\left(x_t - A_t x_{t-1} - B_t u_t\\right)^T(R^{-1}_t)^T(-A_t) + \\left(x_{t-1} - \\mu_{t-1}\\right)^T(\\Sigma^{-1}_{t-1})^T \\\\ \\HSS\\HSS = -A_t^T \\space R^{-1}_t \\left(x_t - A_t x_{t-1} - B_t u_t) + \\Sigma^{-1}_{t-1} \\space (x_{t-1} - \\mu_{t-1}\\right)$\n",
    "\n",
    "(3.15) $\\space$ $\\frac{\\partial^2 L_t}{\\partial x^2_{t-1}} = A^T_t R^{-1}_t A_t + \\Sigma^{-1}_{t-1} =: \\Psi^{-1}_t$"
   ]
  }
 ],
 "metadata": {
  "language_info": {
   "name": "python"
  }
 },
 "nbformat": 4,
 "nbformat_minor": 2
}
