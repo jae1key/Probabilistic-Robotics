{
 "cells": [
  {
   "cell_type": "markdown",
   "metadata": {},
   "source": [
    "2.3.3 Probabilistic Generative Laws\n",
    "\n",
    "(2.32) $\\space$ $p(x_t \\mid x_{0:t-1}, \\space z_{1:t-1}, \\space u_{1:t})$ \n",
    "\n",
    "(2.33) $\\space$ $p(x_t \\mid x_{0:t-1}, \\space z_{1:t-1}, \\space u_{1:t}) = p(x_t \\space | \\space x_{t-1}, \\space u_t)$\n",
    "\n",
    "(2.34) $\\space$ $p(z_t \\mid x_{0:t}, \\space z_{1:t-1}, \\space u_{1:t}) = p(z_t \\mid x_t)$"
   ]
  },
  {
   "cell_type": "markdown",
   "metadata": {},
   "source": [
    "2.3.4 Belief Distributions\n",
    "\n",
    "(2.35) $\\space$ $bel(x_t) = p(x_t \\mid z_{1:t}, \\space u_{1:t})$ \n",
    "\n",
    "(2.36) $\\space$ $\\bar{bel}(x_t) = p(x_t \\mid z_{1:t-1}, \\space u_{1:t})$"
   ]
  },
  {
   "cell_type": "markdown",
   "metadata": {},
   "source": [
    "2.4.1 The Bayes Filter Algorithm\n",
    "\n",
    "Table 2.1 The general algorithm for Bayes filtering.\n",
    "\n",
    "Algorithm Bayes_filter ($\\space bel(x_{t-1})$, $u_t$, $z_t\\space$):\n",
    "\n",
    "- for all $x_t$ do\n",
    "    - $\\bar{bel}(x_t) = \\int p(x_t \\mid u_t, \\space x_{t-1}) \\space bel(x_{t-1}) dx$\n",
    "    - $bel(x_t) = \\eta \\space p(z_t \\mid x_t) \\space \\bar{bel}(x_t)$\n",
    "- endfor\n",
    "- return $bel(x_t)$\n",
    "\n"
   ]
  },
  {
   "cell_type": "markdown",
   "metadata": {},
   "source": [
    "(2.55) $\\space$ $p(x_t \\mid z_{1:t}, u_{1:t}) = \\frac{p(z_t \\space | \\space x_t, \\space z_{1:t-1}, \\space u_{1:t}) \\space p(x_t \\space | \\space z_{1:t-1}, \\space u_{1:t})}{p(z_t \\space \\mid \\space z_{1:t-1}, \\space u_{1:t})}$\n",
    "$ = \\eta \\space p(z_t \\space | \\space x_t, \\space z_{1:t-1}, \\space u_{1:t}) \\space p(x_t \\space | \\space z_{1:t-1}, \\space u_{1:t})$\n",
    "\n",
    "(2.56) $\\space$ $p(z_t \\space | \\space x_t, \\space z_{1:t-1}, \\space u_{1:t}) = p(z_t \\space | \\space x_t)$\n",
    "\n",
    "(2.57) $\\space$ $p(x_t \\mid z_{1:t}, u_{1:t}) = \\eta \\space p(z_t \\mid x_t) \\space p(x_t \\space | \\space z_{1:t-1}, \\space u_{1:t})$\n",
    "\n",
    "(2.58) $\\space$ $bel(x_t) = \\eta \\space p(z_t \\mid x_t) \\space \\bar{bel}(x_t)$\n",
    "\n",
    "(2.59) $\\space$ $\\bar{bel}(x_t) = p(x_t \\mid z_{1:t-1}, \\space u_{1:t}) = \\int{ p\\left(x_t \\mid x_{t-1}, \\space z_{1:t-1}, \\space u_{1:t}\\right) \\space p\\left(x_{t-1} \\mid \\space z_{1:t-1}, \\space u_{1:t}\\right)dx_{t-1}}$\n",
    "\n",
    "(2.60) $\\space$ $p\\left(x_t \\mid x_{t-1}, \\space z_{1:t-1}, \\space u_{1:t}\\right) = p(x_t \\mid x_{t-1}, u_t)$\n",
    "\n",
    "(2.61) $\\space$ $\\bar{bel}(x_t) = \\int{ p\\left(x_t \\mid x_{t-1}, u_t\\right) \\space p\\left(x_{t-1} \\mid z_{1:t-1}, u_{1:t-1} \\right)dx_{t-1}}$"
   ]
  }
 ],
 "metadata": {
  "language_info": {
   "name": "python"
  }
 },
 "nbformat": 4,
 "nbformat_minor": 2
}
